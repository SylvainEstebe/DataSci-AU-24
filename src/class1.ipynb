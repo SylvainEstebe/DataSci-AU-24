{
 "cells": [
  {
   "cell_type": "markdown",
   "id": "5fca2593-ca7d-408d-b266-e6d68f16c276",
   "metadata": {},
   "source": [
    "# Data Science: Class 1\n",
    "\n",
    "Exercise in nbs/class_01.ipynb"
   ]
  },
  {
   "cell_type": "code",
   "execution_count": 2,
   "id": "95de88ff-9a82-4d46-b865-001614bc7724",
   "metadata": {},
   "outputs": [],
   "source": [
    "import pandas\n",
    "import seaborn as sns\n",
    "import plotnine\n",
    "import scipy"
   ]
  },
  {
   "cell_type": "code",
   "execution_count": 4,
   "id": "57b3672a-e52c-4918-b778-0402aec163ee",
   "metadata": {},
   "outputs": [],
   "source": [
    "data = pandas.read_csv(\"/Users/sylvainestebe/Code/DataSci-AU-24-1/data/randomnumber.csv\")\n",
    "questions =  pandas.read_csv(\"/Users/sylvainestebe/Code/DataSci-AU-24-1/data/randomnumber_codebook.csv\")"
   ]
  },
  {
   "cell_type": "code",
   "execution_count": 5,
   "id": "7ab50c38-f075-4cac-8ca0-3790b641bcb7",
   "metadata": {},
   "outputs": [
    {
     "data": {
      "text/plain": [
       "(1369, 71)"
      ]
     },
     "execution_count": 5,
     "metadata": {},
     "output_type": "execute_result"
    }
   ],
   "source": [
    "data.shape"
   ]
  },
  {
   "cell_type": "code",
   "execution_count": 6,
   "id": "4035a1e4-7da0-4867-a7ca-f9cd9ef4f22b",
   "metadata": {},
   "outputs": [
    {
     "name": "stdout",
     "output_type": "stream",
     "text": [
      "<class 'pandas.core.frame.DataFrame'>\n",
      "RangeIndex: 1369 entries, 0 to 1368\n",
      "Data columns (total 71 columns):\n",
      " #   Column      Non-Null Count  Dtype \n",
      "---  ------      --------------  ----- \n",
      " 0   submittime  1369 non-null   object\n",
      " 1   R1          1369 non-null   int64 \n",
      " 2   R2          1369 non-null   int64 \n",
      " 3   R3          1369 non-null   int64 \n",
      " 4   R4          1369 non-null   int64 \n",
      " 5   R5          1369 non-null   int64 \n",
      " 6   R6          1369 non-null   int64 \n",
      " 7   R7          1369 non-null   int64 \n",
      " 8   R8          1369 non-null   int64 \n",
      " 9   R9          1369 non-null   int64 \n",
      " 10  R10         1369 non-null   int64 \n",
      " 11  R11         1369 non-null   int64 \n",
      " 12  R12         1369 non-null   int64 \n",
      " 13  R13         1369 non-null   int64 \n",
      " 14  R14         1369 non-null   int64 \n",
      " 15  R15         1369 non-null   int64 \n",
      " 16  R16         1369 non-null   int64 \n",
      " 17  R17         1369 non-null   int64 \n",
      " 18  R18         1369 non-null   int64 \n",
      " 19  R19         1369 non-null   int64 \n",
      " 20  R20         1369 non-null   int64 \n",
      " 21  E1          1369 non-null   int64 \n",
      " 22  E2          1369 non-null   int64 \n",
      " 23  E3          1369 non-null   int64 \n",
      " 24  E4          1369 non-null   int64 \n",
      " 25  E5          1369 non-null   int64 \n",
      " 26  E6          1369 non-null   int64 \n",
      " 27  E7          1369 non-null   int64 \n",
      " 28  E8          1369 non-null   int64 \n",
      " 29  E9          1369 non-null   int64 \n",
      " 30  E10         1369 non-null   int64 \n",
      " 31  N1          1369 non-null   int64 \n",
      " 32  N2          1369 non-null   int64 \n",
      " 33  N3          1369 non-null   int64 \n",
      " 34  N4          1369 non-null   int64 \n",
      " 35  N5          1369 non-null   int64 \n",
      " 36  N6          1369 non-null   int64 \n",
      " 37  N7          1369 non-null   int64 \n",
      " 38  N8          1369 non-null   int64 \n",
      " 39  N9          1369 non-null   int64 \n",
      " 40  N10         1369 non-null   int64 \n",
      " 41  A1          1369 non-null   int64 \n",
      " 42  A2          1369 non-null   int64 \n",
      " 43  A3          1369 non-null   int64 \n",
      " 44  A4          1369 non-null   int64 \n",
      " 45  A5          1369 non-null   int64 \n",
      " 46  A6          1369 non-null   int64 \n",
      " 47  A7          1369 non-null   int64 \n",
      " 48  A8          1369 non-null   int64 \n",
      " 49  A9          1369 non-null   int64 \n",
      " 50  A10         1369 non-null   int64 \n",
      " 51  C1          1369 non-null   int64 \n",
      " 52  C2          1369 non-null   int64 \n",
      " 53  C3          1369 non-null   int64 \n",
      " 54  C4          1369 non-null   int64 \n",
      " 55  C5          1369 non-null   int64 \n",
      " 56  C6          1369 non-null   int64 \n",
      " 57  C7          1369 non-null   int64 \n",
      " 58  C8          1369 non-null   int64 \n",
      " 59  C9          1369 non-null   int64 \n",
      " 60  C10         1369 non-null   int64 \n",
      " 61  O1          1369 non-null   int64 \n",
      " 62  O2          1369 non-null   int64 \n",
      " 63  O3          1369 non-null   int64 \n",
      " 64  O4          1369 non-null   int64 \n",
      " 65  O5          1369 non-null   int64 \n",
      " 66  O6          1369 non-null   int64 \n",
      " 67  O7          1369 non-null   int64 \n",
      " 68  O8          1369 non-null   int64 \n",
      " 69  O9          1369 non-null   int64 \n",
      " 70  O10         1369 non-null   int64 \n",
      "dtypes: int64(70), object(1)\n",
      "memory usage: 759.5+ KB\n"
     ]
    }
   ],
   "source": [
    "data.info()"
   ]
  },
  {
   "cell_type": "code",
   "execution_count": 63,
   "id": "563567e9-00ee-4f8e-8184-7a37d75b1e24",
   "metadata": {},
   "outputs": [
    {
     "data": {
      "text/html": [
       "<div>\n",
       "<style scoped>\n",
       "    .dataframe tbody tr th:only-of-type {\n",
       "        vertical-align: middle;\n",
       "    }\n",
       "\n",
       "    .dataframe tbody tr th {\n",
       "        vertical-align: top;\n",
       "    }\n",
       "\n",
       "    .dataframe thead th {\n",
       "        text-align: right;\n",
       "    }\n",
       "</style>\n",
       "<table border=\"1\" class=\"dataframe\">\n",
       "  <thead>\n",
       "    <tr style=\"text-align: right;\">\n",
       "      <th></th>\n",
       "      <th>R1</th>\n",
       "      <th>R2</th>\n",
       "      <th>R3</th>\n",
       "      <th>R4</th>\n",
       "      <th>R5</th>\n",
       "      <th>R6</th>\n",
       "      <th>R7</th>\n",
       "      <th>R8</th>\n",
       "      <th>R9</th>\n",
       "      <th>R10</th>\n",
       "      <th>...</th>\n",
       "      <th>O1</th>\n",
       "      <th>O2</th>\n",
       "      <th>O3</th>\n",
       "      <th>O4</th>\n",
       "      <th>O5</th>\n",
       "      <th>O6</th>\n",
       "      <th>O7</th>\n",
       "      <th>O8</th>\n",
       "      <th>O9</th>\n",
       "      <th>O10</th>\n",
       "    </tr>\n",
       "  </thead>\n",
       "  <tbody>\n",
       "    <tr>\n",
       "      <th>count</th>\n",
       "      <td>1369.000000</td>\n",
       "      <td>1369.000000</td>\n",
       "      <td>1369.000000</td>\n",
       "      <td>1369.000000</td>\n",
       "      <td>1369.000000</td>\n",
       "      <td>1369.000000</td>\n",
       "      <td>1369.000000</td>\n",
       "      <td>1369.000000</td>\n",
       "      <td>1369.000000</td>\n",
       "      <td>1369.000000</td>\n",
       "      <td>...</td>\n",
       "      <td>1369.000000</td>\n",
       "      <td>1369.000000</td>\n",
       "      <td>1369.000000</td>\n",
       "      <td>1369.000000</td>\n",
       "      <td>1369.000000</td>\n",
       "      <td>1369.000000</td>\n",
       "      <td>1369.000000</td>\n",
       "      <td>1369.000000</td>\n",
       "      <td>1369.000000</td>\n",
       "      <td>1369.000000</td>\n",
       "    </tr>\n",
       "    <tr>\n",
       "      <th>mean</th>\n",
       "      <td>71.971512</td>\n",
       "      <td>489.910153</td>\n",
       "      <td>95.937180</td>\n",
       "      <td>280.379109</td>\n",
       "      <td>48.068663</td>\n",
       "      <td>588.612126</td>\n",
       "      <td>54.864865</td>\n",
       "      <td>30.842221</td>\n",
       "      <td>57.004383</td>\n",
       "      <td>90.149014</td>\n",
       "      <td>...</td>\n",
       "      <td>3.720964</td>\n",
       "      <td>2.170928</td>\n",
       "      <td>4.104456</td>\n",
       "      <td>2.083272</td>\n",
       "      <td>3.826881</td>\n",
       "      <td>1.880935</td>\n",
       "      <td>3.987582</td>\n",
       "      <td>3.215486</td>\n",
       "      <td>4.105186</td>\n",
       "      <td>3.988313</td>\n",
       "    </tr>\n",
       "    <tr>\n",
       "      <th>std</th>\n",
       "      <td>928.472135</td>\n",
       "      <td>653.820866</td>\n",
       "      <td>1217.521956</td>\n",
       "      <td>121.802923</td>\n",
       "      <td>44.023814</td>\n",
       "      <td>535.102114</td>\n",
       "      <td>180.765199</td>\n",
       "      <td>19.087976</td>\n",
       "      <td>270.353148</td>\n",
       "      <td>37.124589</td>\n",
       "      <td>...</td>\n",
       "      <td>1.119148</td>\n",
       "      <td>1.143250</td>\n",
       "      <td>1.019568</td>\n",
       "      <td>1.103062</td>\n",
       "      <td>0.964263</td>\n",
       "      <td>1.124421</td>\n",
       "      <td>0.972122</td>\n",
       "      <td>1.242354</td>\n",
       "      <td>1.014822</td>\n",
       "      <td>0.980740</td>\n",
       "    </tr>\n",
       "    <tr>\n",
       "      <th>min</th>\n",
       "      <td>0.000000</td>\n",
       "      <td>0.000000</td>\n",
       "      <td>0.000000</td>\n",
       "      <td>0.000000</td>\n",
       "      <td>0.000000</td>\n",
       "      <td>0.000000</td>\n",
       "      <td>0.000000</td>\n",
       "      <td>0.000000</td>\n",
       "      <td>0.000000</td>\n",
       "      <td>0.000000</td>\n",
       "      <td>...</td>\n",
       "      <td>0.000000</td>\n",
       "      <td>0.000000</td>\n",
       "      <td>0.000000</td>\n",
       "      <td>0.000000</td>\n",
       "      <td>0.000000</td>\n",
       "      <td>0.000000</td>\n",
       "      <td>0.000000</td>\n",
       "      <td>0.000000</td>\n",
       "      <td>0.000000</td>\n",
       "      <td>0.000000</td>\n",
       "    </tr>\n",
       "    <tr>\n",
       "      <th>25%</th>\n",
       "      <td>17.000000</td>\n",
       "      <td>95.000000</td>\n",
       "      <td>55.000000</td>\n",
       "      <td>200.000000</td>\n",
       "      <td>17.000000</td>\n",
       "      <td>167.000000</td>\n",
       "      <td>23.000000</td>\n",
       "      <td>15.000000</td>\n",
       "      <td>25.000000</td>\n",
       "      <td>72.000000</td>\n",
       "      <td>...</td>\n",
       "      <td>3.000000</td>\n",
       "      <td>1.000000</td>\n",
       "      <td>4.000000</td>\n",
       "      <td>1.000000</td>\n",
       "      <td>3.000000</td>\n",
       "      <td>1.000000</td>\n",
       "      <td>4.000000</td>\n",
       "      <td>2.000000</td>\n",
       "      <td>4.000000</td>\n",
       "      <td>3.000000</td>\n",
       "    </tr>\n",
       "    <tr>\n",
       "      <th>50%</th>\n",
       "      <td>50.000000</td>\n",
       "      <td>500.000000</td>\n",
       "      <td>61.000000</td>\n",
       "      <td>255.000000</td>\n",
       "      <td>50.000000</td>\n",
       "      <td>547.000000</td>\n",
       "      <td>50.000000</td>\n",
       "      <td>33.000000</td>\n",
       "      <td>50.000000</td>\n",
       "      <td>85.000000</td>\n",
       "      <td>...</td>\n",
       "      <td>4.000000</td>\n",
       "      <td>2.000000</td>\n",
       "      <td>4.000000</td>\n",
       "      <td>2.000000</td>\n",
       "      <td>4.000000</td>\n",
       "      <td>2.000000</td>\n",
       "      <td>4.000000</td>\n",
       "      <td>3.000000</td>\n",
       "      <td>4.000000</td>\n",
       "      <td>4.000000</td>\n",
       "    </tr>\n",
       "    <tr>\n",
       "      <th>75%</th>\n",
       "      <td>64.000000</td>\n",
       "      <td>683.000000</td>\n",
       "      <td>74.000000</td>\n",
       "      <td>360.000000</td>\n",
       "      <td>69.000000</td>\n",
       "      <td>921.000000</td>\n",
       "      <td>72.000000</td>\n",
       "      <td>45.000000</td>\n",
       "      <td>69.000000</td>\n",
       "      <td>100.000000</td>\n",
       "      <td>...</td>\n",
       "      <td>5.000000</td>\n",
       "      <td>3.000000</td>\n",
       "      <td>5.000000</td>\n",
       "      <td>3.000000</td>\n",
       "      <td>5.000000</td>\n",
       "      <td>2.000000</td>\n",
       "      <td>5.000000</td>\n",
       "      <td>4.000000</td>\n",
       "      <td>5.000000</td>\n",
       "      <td>5.000000</td>\n",
       "    </tr>\n",
       "    <tr>\n",
       "      <th>max</th>\n",
       "      <td>34340.000000</td>\n",
       "      <td>9952.000000</td>\n",
       "      <td>45108.000000</td>\n",
       "      <td>997.000000</td>\n",
       "      <td>700.000000</td>\n",
       "      <td>9876.000000</td>\n",
       "      <td>6543.000000</td>\n",
       "      <td>333.000000</td>\n",
       "      <td>9963.000000</td>\n",
       "      <td>1125.000000</td>\n",
       "      <td>...</td>\n",
       "      <td>5.000000</td>\n",
       "      <td>5.000000</td>\n",
       "      <td>5.000000</td>\n",
       "      <td>5.000000</td>\n",
       "      <td>5.000000</td>\n",
       "      <td>5.000000</td>\n",
       "      <td>5.000000</td>\n",
       "      <td>5.000000</td>\n",
       "      <td>5.000000</td>\n",
       "      <td>5.000000</td>\n",
       "    </tr>\n",
       "  </tbody>\n",
       "</table>\n",
       "<p>8 rows × 70 columns</p>\n",
       "</div>"
      ],
      "text/plain": [
       "                 R1           R2            R3           R4           R5  \\\n",
       "count   1369.000000  1369.000000   1369.000000  1369.000000  1369.000000   \n",
       "mean      71.971512   489.910153     95.937180   280.379109    48.068663   \n",
       "std      928.472135   653.820866   1217.521956   121.802923    44.023814   \n",
       "min        0.000000     0.000000      0.000000     0.000000     0.000000   \n",
       "25%       17.000000    95.000000     55.000000   200.000000    17.000000   \n",
       "50%       50.000000   500.000000     61.000000   255.000000    50.000000   \n",
       "75%       64.000000   683.000000     74.000000   360.000000    69.000000   \n",
       "max    34340.000000  9952.000000  45108.000000   997.000000   700.000000   \n",
       "\n",
       "                R6           R7           R8           R9          R10  ...  \\\n",
       "count  1369.000000  1369.000000  1369.000000  1369.000000  1369.000000  ...   \n",
       "mean    588.612126    54.864865    30.842221    57.004383    90.149014  ...   \n",
       "std     535.102114   180.765199    19.087976   270.353148    37.124589  ...   \n",
       "min       0.000000     0.000000     0.000000     0.000000     0.000000  ...   \n",
       "25%     167.000000    23.000000    15.000000    25.000000    72.000000  ...   \n",
       "50%     547.000000    50.000000    33.000000    50.000000    85.000000  ...   \n",
       "75%     921.000000    72.000000    45.000000    69.000000   100.000000  ...   \n",
       "max    9876.000000  6543.000000   333.000000  9963.000000  1125.000000  ...   \n",
       "\n",
       "                O1           O2           O3           O4           O5  \\\n",
       "count  1369.000000  1369.000000  1369.000000  1369.000000  1369.000000   \n",
       "mean      3.720964     2.170928     4.104456     2.083272     3.826881   \n",
       "std       1.119148     1.143250     1.019568     1.103062     0.964263   \n",
       "min       0.000000     0.000000     0.000000     0.000000     0.000000   \n",
       "25%       3.000000     1.000000     4.000000     1.000000     3.000000   \n",
       "50%       4.000000     2.000000     4.000000     2.000000     4.000000   \n",
       "75%       5.000000     3.000000     5.000000     3.000000     5.000000   \n",
       "max       5.000000     5.000000     5.000000     5.000000     5.000000   \n",
       "\n",
       "                O6           O7           O8           O9          O10  \n",
       "count  1369.000000  1369.000000  1369.000000  1369.000000  1369.000000  \n",
       "mean      1.880935     3.987582     3.215486     4.105186     3.988313  \n",
       "std       1.124421     0.972122     1.242354     1.014822     0.980740  \n",
       "min       0.000000     0.000000     0.000000     0.000000     0.000000  \n",
       "25%       1.000000     4.000000     2.000000     4.000000     3.000000  \n",
       "50%       2.000000     4.000000     3.000000     4.000000     4.000000  \n",
       "75%       2.000000     5.000000     4.000000     5.000000     5.000000  \n",
       "max       5.000000     5.000000     5.000000     5.000000     5.000000  \n",
       "\n",
       "[8 rows x 70 columns]"
      ]
     },
     "execution_count": 63,
     "metadata": {},
     "output_type": "execute_result"
    }
   ],
   "source": [
    "data.describe()"
   ]
  },
  {
   "cell_type": "markdown",
   "id": "640914b5-4514-40ec-adc1-366d7696b848",
   "metadata": {},
   "source": [
    "guess: missing numbers are coded as 0"
   ]
  },
  {
   "cell_type": "code",
   "execution_count": 64,
   "id": "766cfd62-40fd-473e-abeb-6d6381a5d40f",
   "metadata": {},
   "outputs": [
    {
     "data": {
      "text/plain": [
       "<Axes: ylabel='Count'>"
      ]
     },
     "execution_count": 64,
     "metadata": {},
     "output_type": "execute_result"
    },
    {
     "data": {
      "image/png": "[encoded data removed]",
      "text/plain": [
       "<Figure size 640x480 with 1 Axes>"
      ]
     },
     "metadata": {},
     "output_type": "display_data"
    }
   ],
   "source": [
    "zeroes = data.apply(lambda col: sum(col == 0))\n",
    "sns.histplot(zeroes)"
   ]
  },
  {
   "cell_type": "markdown",
   "id": "e891672d-ac06-4108-8112-fdc621f4c754",
   "metadata": {},
   "source": [
    "Not a big problem, just filter out 0 from Y"
   ]
  },
  {
   "cell_type": "code",
   "execution_count": 50,
   "id": "130e0016-c924-4aba-8ba8-ddd03ba4dfac",
   "metadata": {},
   "outputs": [
    {
     "data": {
      "text/plain": [
       "(1353, 71)"
      ]
     },
     "execution_count": 50,
     "metadata": {},
     "output_type": "execute_result"
    }
   ],
   "source": [
    "#data = data[data.R17 != 0]\n",
    "data.shape"
   ]
  },
  {
   "cell_type": "markdown",
   "id": "b1aa3766-ce63-4f32-8c07-2969c72d5e82",
   "metadata": {},
   "source": [
    "illegal input in rows 225 and 1348"
   ]
  },
  {
   "cell_type": "markdown",
   "id": "253bd874-f6d4-4893-9b07-f9b4ab84e69f",
   "metadata": {},
   "source": [
    "#### data outside of range?"
   ]
  },
  {
   "cell_type": "code",
   "execution_count": 51,
   "id": "3b1a7de2-45a3-4dbd-8e29-bada1547d4d5",
   "metadata": {},
   "outputs": [
    {
     "data": {
      "text/plain": [
       "(1351, 71)"
      ]
     },
     "execution_count": 51,
     "metadata": {},
     "output_type": "execute_result"
    }
   ],
   "source": [
    "#data = data.drop(labels = [225, 1348], axis=0)\n",
    "data.shape"
   ]
  },
  {
   "cell_type": "code",
   "execution_count": 65,
   "id": "9521005a-1ab8-46ad-88f4-629eac6f0ff1",
   "metadata": {},
   "outputs": [
    {
     "data": {
      "text/plain": [
       "<Axes: ylabel='Count'>"
      ]
     },
     "execution_count": 65,
     "metadata": {},
     "output_type": "execute_result"
    },
    {
     "data": {
      "image/png": "[encoded data removed]",
      "text/plain": [
       "<Figure size 640x480 with 1 Axes>"
      ]
     },
     "metadata": {},
     "output_type": "display_data"
    }
   ],
   "source": [
    "zeroes_rows = data.apply(lambda row: sum(row == 0), axis = 1)\n",
    "sns.histplot(zeroes_rows)"
   ]
  },
  {
   "cell_type": "code",
   "execution_count": 66,
   "id": "8a8cfff6-9c8a-4007-9052-2a95c1bfb195",
   "metadata": {},
   "outputs": [
    {
     "data": {
      "text/html": [
       "<div>\n",
       "<style scoped>\n",
       "    .dataframe tbody tr th:only-of-type {\n",
       "        vertical-align: middle;\n",
       "    }\n",
       "\n",
       "    .dataframe tbody tr th {\n",
       "        vertical-align: top;\n",
       "    }\n",
       "\n",
       "    .dataframe thead th {\n",
       "        text-align: right;\n",
       "    }\n",
       "</style>\n",
       "<table border=\"1\" class=\"dataframe\">\n",
       "  <thead>\n",
       "    <tr style=\"text-align: right;\">\n",
       "      <th></th>\n",
       "      <th>R1</th>\n",
       "      <th>R2</th>\n",
       "      <th>R3</th>\n",
       "      <th>R4</th>\n",
       "      <th>R5</th>\n",
       "      <th>R6</th>\n",
       "      <th>R7</th>\n",
       "      <th>R8</th>\n",
       "      <th>R9</th>\n",
       "      <th>R10</th>\n",
       "      <th>...</th>\n",
       "      <th>O1</th>\n",
       "      <th>O2</th>\n",
       "      <th>O3</th>\n",
       "      <th>O4</th>\n",
       "      <th>O5</th>\n",
       "      <th>O6</th>\n",
       "      <th>O7</th>\n",
       "      <th>O8</th>\n",
       "      <th>O9</th>\n",
       "      <th>O10</th>\n",
       "    </tr>\n",
       "  </thead>\n",
       "  <tbody>\n",
       "    <tr>\n",
       "      <th>R1</th>\n",
       "      <td>1.000000</td>\n",
       "      <td>0.002255</td>\n",
       "      <td>-0.001235</td>\n",
       "      <td>0.022719</td>\n",
       "      <td>0.031063</td>\n",
       "      <td>0.035389</td>\n",
       "      <td>0.007444</td>\n",
       "      <td>0.025830</td>\n",
       "      <td>0.001791</td>\n",
       "      <td>0.024729</td>\n",
       "      <td>...</td>\n",
       "      <td>0.032219</td>\n",
       "      <td>0.042285</td>\n",
       "      <td>-0.028088</td>\n",
       "      <td>0.021107</td>\n",
       "      <td>0.034292</td>\n",
       "      <td>0.027149</td>\n",
       "      <td>0.029913</td>\n",
       "      <td>-0.003457</td>\n",
       "      <td>0.026408</td>\n",
       "      <td>0.029461</td>\n",
       "    </tr>\n",
       "    <tr>\n",
       "      <th>R2</th>\n",
       "      <td>0.002255</td>\n",
       "      <td>1.000000</td>\n",
       "      <td>0.017447</td>\n",
       "      <td>0.088049</td>\n",
       "      <td>0.118392</td>\n",
       "      <td>0.083742</td>\n",
       "      <td>0.037634</td>\n",
       "      <td>0.045600</td>\n",
       "      <td>0.031162</td>\n",
       "      <td>0.089151</td>\n",
       "      <td>...</td>\n",
       "      <td>0.007264</td>\n",
       "      <td>0.028563</td>\n",
       "      <td>-0.040792</td>\n",
       "      <td>0.001147</td>\n",
       "      <td>0.035630</td>\n",
       "      <td>0.033580</td>\n",
       "      <td>0.019028</td>\n",
       "      <td>0.022284</td>\n",
       "      <td>0.028119</td>\n",
       "      <td>0.035402</td>\n",
       "    </tr>\n",
       "    <tr>\n",
       "      <th>R3</th>\n",
       "      <td>-0.001235</td>\n",
       "      <td>0.017447</td>\n",
       "      <td>1.000000</td>\n",
       "      <td>-0.060392</td>\n",
       "      <td>0.032700</td>\n",
       "      <td>0.021405</td>\n",
       "      <td>0.007437</td>\n",
       "      <td>0.021346</td>\n",
       "      <td>0.991145</td>\n",
       "      <td>-0.063521</td>\n",
       "      <td>...</td>\n",
       "      <td>0.007254</td>\n",
       "      <td>-0.004483</td>\n",
       "      <td>-0.001952</td>\n",
       "      <td>-0.002854</td>\n",
       "      <td>0.033381</td>\n",
       "      <td>-0.021556</td>\n",
       "      <td>0.000458</td>\n",
       "      <td>-0.025843</td>\n",
       "      <td>-0.002953</td>\n",
       "      <td>0.027951</td>\n",
       "    </tr>\n",
       "    <tr>\n",
       "      <th>R4</th>\n",
       "      <td>0.022719</td>\n",
       "      <td>0.088049</td>\n",
       "      <td>-0.060392</td>\n",
       "      <td>1.000000</td>\n",
       "      <td>0.099644</td>\n",
       "      <td>0.147356</td>\n",
       "      <td>0.017557</td>\n",
       "      <td>0.170746</td>\n",
       "      <td>-0.043923</td>\n",
       "      <td>0.132249</td>\n",
       "      <td>...</td>\n",
       "      <td>0.046862</td>\n",
       "      <td>0.006233</td>\n",
       "      <td>0.047742</td>\n",
       "      <td>-0.029816</td>\n",
       "      <td>0.037597</td>\n",
       "      <td>-0.013894</td>\n",
       "      <td>0.009856</td>\n",
       "      <td>0.038608</td>\n",
       "      <td>-0.015604</td>\n",
       "      <td>0.034862</td>\n",
       "    </tr>\n",
       "    <tr>\n",
       "      <th>R5</th>\n",
       "      <td>0.031063</td>\n",
       "      <td>0.118392</td>\n",
       "      <td>0.032700</td>\n",
       "      <td>0.099644</td>\n",
       "      <td>1.000000</td>\n",
       "      <td>0.043385</td>\n",
       "      <td>0.044487</td>\n",
       "      <td>0.113653</td>\n",
       "      <td>0.054878</td>\n",
       "      <td>0.066184</td>\n",
       "      <td>...</td>\n",
       "      <td>-0.022652</td>\n",
       "      <td>0.000667</td>\n",
       "      <td>0.027591</td>\n",
       "      <td>-0.016074</td>\n",
       "      <td>0.024130</td>\n",
       "      <td>0.040613</td>\n",
       "      <td>0.010200</td>\n",
       "      <td>-0.029487</td>\n",
       "      <td>-0.027699</td>\n",
       "      <td>0.004454</td>\n",
       "    </tr>\n",
       "    <tr>\n",
       "      <th>...</th>\n",
       "      <td>...</td>\n",
       "      <td>...</td>\n",
       "      <td>...</td>\n",
       "      <td>...</td>\n",
       "      <td>...</td>\n",
       "      <td>...</td>\n",
       "      <td>...</td>\n",
       "      <td>...</td>\n",
       "      <td>...</td>\n",
       "      <td>...</td>\n",
       "      <td>...</td>\n",
       "      <td>...</td>\n",
       "      <td>...</td>\n",
       "      <td>...</td>\n",
       "      <td>...</td>\n",
       "      <td>...</td>\n",
       "      <td>...</td>\n",
       "      <td>...</td>\n",
       "      <td>...</td>\n",
       "      <td>...</td>\n",
       "      <td>...</td>\n",
       "    </tr>\n",
       "    <tr>\n",
       "      <th>O6</th>\n",
       "      <td>0.027149</td>\n",
       "      <td>0.033580</td>\n",
       "      <td>-0.021556</td>\n",
       "      <td>-0.013894</td>\n",
       "      <td>0.040613</td>\n",
       "      <td>-0.032964</td>\n",
       "      <td>-0.021255</td>\n",
       "      <td>0.004880</td>\n",
       "      <td>-0.016691</td>\n",
       "      <td>0.041350</td>\n",
       "      <td>...</td>\n",
       "      <td>-0.165836</td>\n",
       "      <td>0.215439</td>\n",
       "      <td>-0.492871</td>\n",
       "      <td>0.242568</td>\n",
       "      <td>-0.279267</td>\n",
       "      <td>1.000000</td>\n",
       "      <td>-0.118385</td>\n",
       "      <td>-0.150118</td>\n",
       "      <td>-0.098561</td>\n",
       "      <td>-0.406279</td>\n",
       "    </tr>\n",
       "    <tr>\n",
       "      <th>O7</th>\n",
       "      <td>0.029913</td>\n",
       "      <td>0.019028</td>\n",
       "      <td>0.000458</td>\n",
       "      <td>0.009856</td>\n",
       "      <td>0.010200</td>\n",
       "      <td>0.044664</td>\n",
       "      <td>-0.020409</td>\n",
       "      <td>0.035310</td>\n",
       "      <td>0.005855</td>\n",
       "      <td>0.040237</td>\n",
       "      <td>...</td>\n",
       "      <td>0.310591</td>\n",
       "      <td>-0.368395</td>\n",
       "      <td>0.147340</td>\n",
       "      <td>-0.199455</td>\n",
       "      <td>0.336929</td>\n",
       "      <td>-0.118385</td>\n",
       "      <td>1.000000</td>\n",
       "      <td>0.302430</td>\n",
       "      <td>0.149520</td>\n",
       "      <td>0.331072</td>\n",
       "    </tr>\n",
       "    <tr>\n",
       "      <th>O8</th>\n",
       "      <td>-0.003457</td>\n",
       "      <td>0.022284</td>\n",
       "      <td>-0.025843</td>\n",
       "      <td>0.038608</td>\n",
       "      <td>-0.029487</td>\n",
       "      <td>-0.001326</td>\n",
       "      <td>-0.002956</td>\n",
       "      <td>0.022057</td>\n",
       "      <td>-0.023895</td>\n",
       "      <td>0.050544</td>\n",
       "      <td>...</td>\n",
       "      <td>0.635274</td>\n",
       "      <td>-0.268875</td>\n",
       "      <td>0.204401</td>\n",
       "      <td>-0.225405</td>\n",
       "      <td>0.281956</td>\n",
       "      <td>-0.150118</td>\n",
       "      <td>0.302430</td>\n",
       "      <td>1.000000</td>\n",
       "      <td>0.223206</td>\n",
       "      <td>0.312842</td>\n",
       "    </tr>\n",
       "    <tr>\n",
       "      <th>O9</th>\n",
       "      <td>0.026408</td>\n",
       "      <td>0.028119</td>\n",
       "      <td>-0.002953</td>\n",
       "      <td>-0.015604</td>\n",
       "      <td>-0.027699</td>\n",
       "      <td>-0.055949</td>\n",
       "      <td>-0.003561</td>\n",
       "      <td>0.035915</td>\n",
       "      <td>-0.006084</td>\n",
       "      <td>0.013166</td>\n",
       "      <td>...</td>\n",
       "      <td>0.240191</td>\n",
       "      <td>-0.183104</td>\n",
       "      <td>0.190724</td>\n",
       "      <td>-0.224632</td>\n",
       "      <td>0.182965</td>\n",
       "      <td>-0.098561</td>\n",
       "      <td>0.149520</td>\n",
       "      <td>0.223206</td>\n",
       "      <td>1.000000</td>\n",
       "      <td>0.223044</td>\n",
       "    </tr>\n",
       "    <tr>\n",
       "      <th>O10</th>\n",
       "      <td>0.029461</td>\n",
       "      <td>0.035402</td>\n",
       "      <td>0.027951</td>\n",
       "      <td>0.034862</td>\n",
       "      <td>0.004454</td>\n",
       "      <td>-0.006739</td>\n",
       "      <td>-0.021326</td>\n",
       "      <td>0.026493</td>\n",
       "      <td>0.021383</td>\n",
       "      <td>0.003441</td>\n",
       "      <td>...</td>\n",
       "      <td>0.294061</td>\n",
       "      <td>-0.290946</td>\n",
       "      <td>0.417186</td>\n",
       "      <td>-0.286276</td>\n",
       "      <td>0.594594</td>\n",
       "      <td>-0.406279</td>\n",
       "      <td>0.331072</td>\n",
       "      <td>0.312842</td>\n",
       "      <td>0.223044</td>\n",
       "      <td>1.000000</td>\n",
       "    </tr>\n",
       "  </tbody>\n",
       "</table>\n",
       "<p>70 rows × 70 columns</p>\n",
       "</div>"
      ],
      "text/plain": [
       "           R1        R2        R3        R4        R5        R6        R7  \\\n",
       "R1   1.000000  0.002255 -0.001235  0.022719  0.031063  0.035389  0.007444   \n",
       "R2   0.002255  1.000000  0.017447  0.088049  0.118392  0.083742  0.037634   \n",
       "R3  -0.001235  0.017447  1.000000 -0.060392  0.032700  0.021405  0.007437   \n",
       "R4   0.022719  0.088049 -0.060392  1.000000  0.099644  0.147356  0.017557   \n",
       "R5   0.031063  0.118392  0.032700  0.099644  1.000000  0.043385  0.044487   \n",
       "..        ...       ...       ...       ...       ...       ...       ...   \n",
       "O6   0.027149  0.033580 -0.021556 -0.013894  0.040613 -0.032964 -0.021255   \n",
       "O7   0.029913  0.019028  0.000458  0.009856  0.010200  0.044664 -0.020409   \n",
       "O8  -0.003457  0.022284 -0.025843  0.038608 -0.029487 -0.001326 -0.002956   \n",
       "O9   0.026408  0.028119 -0.002953 -0.015604 -0.027699 -0.055949 -0.003561   \n",
       "O10  0.029461  0.035402  0.027951  0.034862  0.004454 -0.006739 -0.021326   \n",
       "\n",
       "           R8        R9       R10  ...        O1        O2        O3  \\\n",
       "R1   0.025830  0.001791  0.024729  ...  0.032219  0.042285 -0.028088   \n",
       "R2   0.045600  0.031162  0.089151  ...  0.007264  0.028563 -0.040792   \n",
       "R3   0.021346  0.991145 -0.063521  ...  0.007254 -0.004483 -0.001952   \n",
       "R4   0.170746 -0.043923  0.132249  ...  0.046862  0.006233  0.047742   \n",
       "R5   0.113653  0.054878  0.066184  ... -0.022652  0.000667  0.027591   \n",
       "..        ...       ...       ...  ...       ...       ...       ...   \n",
       "O6   0.004880 -0.016691  0.041350  ... -0.165836  0.215439 -0.492871   \n",
       "O7   0.035310  0.005855  0.040237  ...  0.310591 -0.368395  0.147340   \n",
       "O8   0.022057 -0.023895  0.050544  ...  0.635274 -0.268875  0.204401   \n",
       "O9   0.035915 -0.006084  0.013166  ...  0.240191 -0.183104  0.190724   \n",
       "O10  0.026493  0.021383  0.003441  ...  0.294061 -0.290946  0.417186   \n",
       "\n",
       "           O4        O5        O6        O7        O8        O9       O10  \n",
       "R1   0.021107  0.034292  0.027149  0.029913 -0.003457  0.026408  0.029461  \n",
       "R2   0.001147  0.035630  0.033580  0.019028  0.022284  0.028119  0.035402  \n",
       "R3  -0.002854  0.033381 -0.021556  0.000458 -0.025843 -0.002953  0.027951  \n",
       "R4  -0.029816  0.037597 -0.013894  0.009856  0.038608 -0.015604  0.034862  \n",
       "R5  -0.016074  0.024130  0.040613  0.010200 -0.029487 -0.027699  0.004454  \n",
       "..        ...       ...       ...       ...       ...       ...       ...  \n",
       "O6   0.242568 -0.279267  1.000000 -0.118385 -0.150118 -0.098561 -0.406279  \n",
       "O7  -0.199455  0.336929 -0.118385  1.000000  0.302430  0.149520  0.331072  \n",
       "O8  -0.225405  0.281956 -0.150118  0.302430  1.000000  0.223206  0.312842  \n",
       "O9  -0.224632  0.182965 -0.098561  0.149520  0.223206  1.000000  0.223044  \n",
       "O10 -0.286276  0.594594 -0.406279  0.331072  0.312842  0.223044  1.000000  \n",
       "\n",
       "[70 rows x 70 columns]"
      ]
     },
     "execution_count": 66,
     "metadata": {},
     "output_type": "execute_result"
    }
   ],
   "source": [
    "data.loc[:, data.columns != \"submittime\"].corr()"
   ]
  },
  {
   "cell_type": "code",
   "execution_count": 67,
   "id": "d11b4b98-13a6-4b09-9630-a48f946ae774",
   "metadata": {},
   "outputs": [
    {
     "data": {
      "text/plain": [
       "<Axes: >"
      ]
     },
     "execution_count": 67,
     "metadata": {},
     "output_type": "execute_result"
    },
    {
     "data": {
      "image/png": "[encoded data removed]",
      "text/plain": [
       "<Figure size 640x480 with 2 Axes>"
      ]
     },
     "metadata": {},
     "output_type": "display_data"
    }
   ],
   "source": [
    "#sns.clustermap(data.loc[:, data.columns != \"submittime\"])\n",
    "sns.heatmap(data.loc[:, data.columns != \"submittime\"].corr())"
   ]
  },
  {
   "cell_type": "markdown",
   "id": "a50d93d9-f9b5-4a5c-b11a-65c5a90dbe17",
   "metadata": {},
   "source": [
    "suggestion: dichotomize the outcome variable?"
   ]
  },
  {
   "cell_type": "code",
   "execution_count": 55,
   "id": "e6b81b64-dd9b-4bc1-beda-09c318cf4fa7",
   "metadata": {},
   "outputs": [
    {
     "name": "stdout",
     "output_type": "stream",
     "text": [
      "<class 'pandas.core.series.Series'>\n",
      "Index: 1351 entries, 0 to 1368\n",
      "Series name: R3\n",
      "Non-Null Count  Dtype\n",
      "--------------  -----\n",
      "1351 non-null   int64\n",
      "dtypes: int64(1)\n",
      "memory usage: 21.1 KB\n"
     ]
    },
    {
     "data": {
      "image/png": "[encoded data removed]",
      "text/plain": [
       "<Figure size 640x480 with 1 Axes>"
      ]
     },
     "metadata": {},
     "output_type": "display_data"
    }
   ],
   "source": [
    "sns.scatterplot(data, x = \"R3\", y = \"R9\")\n",
    "data.R3.info()"
   ]
  },
  {
   "cell_type": "code",
   "execution_count": 56,
   "id": "c7802ac3-14dd-47ac-924d-23f35508d963",
   "metadata": {},
   "outputs": [
    {
     "data": {
      "text/plain": [
       "count    1351.000000\n",
       "mean       44.866025\n",
       "std        14.015038\n",
       "min         0.000000\n",
       "25%        40.000000\n",
       "50%        45.000000\n",
       "75%        50.000000\n",
       "max       455.000000\n",
       "Name: R20, dtype: float64"
      ]
     },
     "execution_count": 56,
     "metadata": {},
     "output_type": "execute_result"
    }
   ],
   "source": [
    "data.R20.describe()"
   ]
  },
  {
   "cell_type": "code",
   "execution_count": 43,
   "id": "2d8f15da-2f8a-4cc7-b108-1efd7df79bb3",
   "metadata": {},
   "outputs": [
    {
     "data": {
      "text/plain": [
       "1348    599\n",
       "Name: R20, dtype: int64"
      ]
     },
     "execution_count": 43,
     "metadata": {},
     "output_type": "execute_result"
    }
   ],
   "source": [
    "data.R20[data.R20 == max(data.R20)]"
   ]
  },
  {
   "cell_type": "markdown",
   "id": "ebfbf4db-b0a4-4b7c-bf05-489ce17ecc84",
   "metadata": {},
   "source": [
    "## Questions\n",
    "Think about what information the dataset contains, and formulate one of the following:\n",
    "\n",
    "All of our data is continuous or can be interpreted as continuous (1-5 likert scales)\n",
    "\n"
   ]
  },
  {
   "cell_type": "code",
   "execution_count": 59,
   "id": "afd7a944-122d-4e0a-8788-ad2c5e97a553",
   "metadata": {},
   "outputs": [
    {
     "data": {
      "text/plain": [
       "count    1351.000000\n",
       "mean       54.728349\n",
       "std       120.825014\n",
       "min         0.000000\n",
       "25%        24.000000\n",
       "50%        50.000000\n",
       "75%        69.000000\n",
       "max      4011.000000\n",
       "Name: R18, dtype: float64"
      ]
     },
     "execution_count": 59,
     "metadata": {},
     "output_type": "execute_result"
    }
   ],
   "source": [
    "data.R18.describe()"
   ]
  },
  {
   "cell_type": "markdown",
   "id": "7058a439-3d7b-45fa-8c08-6e7921f58846",
   "metadata": {},
   "source": [
    "### RQ1\n",
    "Predict a number from 1-100 (the last time it is chose, column R18)\n",
    "\n",
    "- Model 0: Always guess the median in the training data\n",
    "- Model 1: Only predict based on other answers to 1-100\n",
    "- Model 2: Include other random number picks\n",
    "- Model 3: Include personality\n",
    "- (opt) Model 4: Try to construct other columns (feature engineering), ie based on the order of the random number questions and anchoring or consistency."
   ]
  },
  {
   "cell_type": "markdown",
   "id": "483d92cb-4e71-4662-be92-b13f0de0a6fd",
   "metadata": {},
   "source": [
    "#### RQ2 (the boring one)\n",
    "Predict personality from random numbers\n",
    "Y = data.C7 \"I like order\"\n",
    "(or do it for all of them, or predict a composite score)"
   ]
  },
  {
   "cell_type": "markdown",
   "id": "ae40a1d6-84a6-4e04-b8d8-28c0579053d4",
   "metadata": {},
   "source": [
    "# 5."
   ]
  },
  {
   "cell_type": "markdown",
   "id": "5c5772db-b4ee-47c6-af17-0a8652d55ff0",
   "metadata": {},
   "source": [
    "\n",
    "        What kind of metric can you use to assess whether the model predicts successfully?\n",
    "        What is the simplest performance baseline with no predictors you can use to assess your model's accuracy?\n",
    "        What is the simplest performance baseline with predictors you can use to assess your model's accuracy?\n",
    "        Can you produce some visualizations to get a sense for whether any clear pattern is emerging?\n",
    "            Hint: you can use seaborn displot, pointplot or boxplot to visualize distributions and their summaries, scatterplot or lmplot to produce scatterplots (e.g., visualizing relations between variables)\n",
    "\n"
   ]
  },
  {
   "cell_type": "markdown",
   "id": "bebc4fe6-647f-4185-be6d-4b6c3d61b381",
   "metadata": {},
   "source": [
    "We can NOT use a metric based on L2 norm (mean squared error), since we are leaving outliers ine"
   ]
  },
  {
   "cell_type": "code",
   "execution_count": null,
   "id": "75b82c9a-27d8-4c50-b653-6f85e06982d2",
   "metadata": {},
   "outputs": [],
   "source": []
  }
 ],
 "metadata": {
  "kernelspec": {
   "display_name": ".venv",
   "language": "python",
   "name": "python3"
  },
  "language_info": {
   "codemirror_mode": {
    "name": "ipython",
    "version": 3
   },
   "file_extension": ".py",
   "mimetype": "text/x-python",
   "name": "python",
   "nbconvert_exporter": "python",
   "pygments_lexer": "ipython3",
   "version": "3.11.7"
  }
 },
 "nbformat": 4,
 "nbformat_minor": 5
}
